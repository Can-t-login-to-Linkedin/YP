{
 "cells": [
  {
   "attachments": {},
   "cell_type": "markdown",
   "metadata": {},
   "source": [
    "**Table of contents**<a id='toc0_'></a>    \n",
    "- [Обработка данных и Topic Modeling](#toc1_)    \n",
    "  - [Импорт библиотек](#toc1_1_)    \n",
    "  - [Профили](#toc1_2_)    \n",
    "  - [Посты](#toc1_3_)    \n",
    "  - [Реакции](#toc1_4_)    \n",
    "  - [Обработка данных](#toc1_5_)    \n",
    "  - [Лемманизация текста](#toc1_6_)    \n",
    "\n",
    "<!-- vscode-jupyter-toc-config\n",
    "\tnumbering=false\n",
    "\tanchor=true\n",
    "\tflat=false\n",
    "\tminLevel=1\n",
    "\tmaxLevel=6\n",
    "\t/vscode-jupyter-toc-config -->\n",
    "<!-- THIS CELL WILL BE REPLACED ON TOC UPDATE. DO NOT WRITE YOUR TEXT IN THIS CELL -->"
   ]
  },
  {
   "attachments": {},
   "cell_type": "markdown",
   "metadata": {},
   "source": [
    "# <a id='toc1_'></a>[Обработка данных и Topic Modeling](#toc0_)"
   ]
  },
  {
   "attachments": {},
   "cell_type": "markdown",
   "metadata": {},
   "source": [
    "## <a id='toc1_1_'></a>[Импорт библиотек](#toc0_)"
   ]
  },
  {
   "cell_type": "code",
   "execution_count": 1,
   "metadata": {},
   "outputs": [
    {
     "name": "stdout",
     "output_type": "stream",
     "text": [
      "INFO: Pandarallel will run on 8 workers.\n",
      "INFO: Pandarallel will use standard multiprocessing data transfer (pipe) to transfer data between the main process and workers.\n",
      "\n",
      "WARNING: You are on Windows. If you detect any issue with pandarallel, be sure you checked out the Troubleshooting page:\n",
      "https://nalepae.github.io/pandarallel/troubleshooting/\n"
     ]
    }
   ],
   "source": [
    "import pandas as pd\n",
    "import numpy as np\n",
    "import json\n",
    "import re\n",
    "\n",
    "import nltk\n",
    "from nltk.corpus import stopwords\n",
    "from pymystem3 import Mystem\n",
    "from wordcloud import WordCloud\n",
    "\n",
    "import matplotlib.pyplot as plt\n",
    "\n",
    "from  pandarallel import pandarallel\n",
    "pandarallel.initialize(progress_bar=False)"
   ]
  },
  {
   "cell_type": "code",
   "execution_count": 2,
   "metadata": {},
   "outputs": [],
   "source": [
    "from ast import literal_eval"
   ]
  },
  {
   "cell_type": "code",
   "execution_count": 3,
   "metadata": {},
   "outputs": [],
   "source": [
    "from sklearn.decomposition import LatentDirichletAllocation\n",
    "from sklearn.feature_extraction.text import TfidfVectorizer"
   ]
  },
  {
   "cell_type": "code",
   "execution_count": 5,
   "metadata": {},
   "outputs": [
    {
     "name": "stderr",
     "output_type": "stream",
     "text": [
      "[nltk_data] Downloading package stopwords to\n",
      "[nltk_data]     C:\\Users\\Oleg\\AppData\\Roaming\\nltk_data...\n",
      "[nltk_data]   Package stopwords is already up-to-date!\n"
     ]
    },
    {
     "data": {
      "text/plain": [
       "True"
      ]
     },
     "execution_count": 5,
     "metadata": {},
     "output_type": "execute_result"
    }
   ],
   "source": [
    "nltk.download('stopwords')"
   ]
  },
  {
   "attachments": {},
   "cell_type": "markdown",
   "metadata": {},
   "source": [
    "Зададим random_state"
   ]
  },
  {
   "cell_type": "code",
   "execution_count": 6,
   "metadata": {},
   "outputs": [],
   "source": [
    "SEED =42"
   ]
  },
  {
   "cell_type": "code",
   "execution_count": 19,
   "metadata": {},
   "outputs": [
    {
     "data": {
      "text/html": [
       "<div>\n",
       "<style scoped>\n",
       "    .dataframe tbody tr th:only-of-type {\n",
       "        vertical-align: middle;\n",
       "    }\n",
       "\n",
       "    .dataframe tbody tr th {\n",
       "        vertical-align: top;\n",
       "    }\n",
       "\n",
       "    .dataframe thead th {\n",
       "        text-align: right;\n",
       "    }\n",
       "</style>\n",
       "<table border=\"1\" class=\"dataframe\">\n",
       "  <thead>\n",
       "    <tr style=\"text-align: right;\">\n",
       "      <th></th>\n",
       "      <th>name</th>\n",
       "      <th>city</th>\n",
       "      <th>connections</th>\n",
       "      <th>role</th>\n",
       "      <th>company</th>\n",
       "      <th>experience</th>\n",
       "      <th>employment_type</th>\n",
       "      <th>skills</th>\n",
       "      <th>reactions</th>\n",
       "      <th>posts</th>\n",
       "    </tr>\n",
       "  </thead>\n",
       "  <tbody>\n",
       "    <tr>\n",
       "      <th>nurlan-isbulaev-34bb211a3</th>\n",
       "      <td>Nurlan Isbulaev</td>\n",
       "      <td>Moscow</td>\n",
       "      <td>500+</td>\n",
       "      <td>Backend Developer</td>\n",
       "      <td>Доброзайм</td>\n",
       "      <td>3.92</td>\n",
       "      <td>Full-time</td>\n",
       "      <td>[JSON, AutoCAD, PHP, Технология строительного ...</td>\n",
       "      <td>[🔥 11 сервисов на базе ИИ ,которые помогут про...</td>\n",
       "      <td>[🔥 11 сервисов на базе ИИ ,которые помогут про...</td>\n",
       "    </tr>\n",
       "    <tr>\n",
       "      <th>maria-terenteva</th>\n",
       "      <td>Maria Terenteva</td>\n",
       "      <td>Moscow</td>\n",
       "      <td>500+</td>\n",
       "      <td>Frontend Developer | Angular</td>\n",
       "      <td>LLC \"ROBIN\"</td>\n",
       "      <td>3.67</td>\n",
       "      <td>Full-time</td>\n",
       "      <td>[Git, HTML, Отчетность, Ведение переговоров, Д...</td>\n",
       "      <td>[Me being a parent:, Всем привет!Активно ищу р...</td>\n",
       "      <td>[None, None, None, None, None, None, None, Non...</td>\n",
       "    </tr>\n",
       "    <tr>\n",
       "      <th>руслан-гусейнов-091858186</th>\n",
       "      <td>Руслан Гусейнов</td>\n",
       "      <td>Russia</td>\n",
       "      <td>500+</td>\n",
       "      <td>Frontend Developer</td>\n",
       "      <td>OZON.ru</td>\n",
       "      <td>3.67</td>\n",
       "      <td>Full-time</td>\n",
       "      <td>[Vuex, WebSockets, ООП, git, TypeScript, Gulp,...</td>\n",
       "      <td>[#humor #it, Я #нанимаю. Знаете людей, которых...</td>\n",
       "      <td>[None, None, None, None, None, None, None, Non...</td>\n",
       "    </tr>\n",
       "  </tbody>\n",
       "</table>\n",
       "</div>"
      ],
      "text/plain": [
       "                                      name    city connections  \\\n",
       "nurlan-isbulaev-34bb211a3  Nurlan Isbulaev  Moscow        500+   \n",
       "maria-terenteva            Maria Terenteva  Moscow        500+   \n",
       "руслан-гусейнов-091858186  Руслан Гусейнов  Russia        500+   \n",
       "\n",
       "                                                   role      company  \\\n",
       "nurlan-isbulaev-34bb211a3             Backend Developer    Доброзайм   \n",
       "maria-terenteva            Frontend Developer | Angular  LLC \"ROBIN\"   \n",
       "руслан-гусейнов-091858186            Frontend Developer      OZON.ru   \n",
       "\n",
       "                           experience employment_type  \\\n",
       "nurlan-isbulaev-34bb211a3        3.92       Full-time   \n",
       "maria-terenteva                  3.67       Full-time   \n",
       "руслан-гусейнов-091858186        3.67       Full-time   \n",
       "\n",
       "                                                                      skills  \\\n",
       "nurlan-isbulaev-34bb211a3  [JSON, AutoCAD, PHP, Технология строительного ...   \n",
       "maria-terenteva            [Git, HTML, Отчетность, Ведение переговоров, Д...   \n",
       "руслан-гусейнов-091858186  [Vuex, WebSockets, ООП, git, TypeScript, Gulp,...   \n",
       "\n",
       "                                                                   reactions  \\\n",
       "nurlan-isbulaev-34bb211a3  [🔥 11 сервисов на базе ИИ ,которые помогут про...   \n",
       "maria-terenteva            [Me being a parent:, Всем привет!Активно ищу р...   \n",
       "руслан-гусейнов-091858186  [#humor #it, Я #нанимаю. Знаете людей, которых...   \n",
       "\n",
       "                                                                       posts  \n",
       "nurlan-isbulaev-34bb211a3  [🔥 11 сервисов на базе ИИ ,которые помогут про...  \n",
       "maria-terenteva            [None, None, None, None, None, None, None, Non...  \n",
       "руслан-гусейнов-091858186  [None, None, None, None, None, None, None, Non...  "
      ]
     },
     "execution_count": 19,
     "metadata": {},
     "output_type": "execute_result"
    }
   ],
   "source": [
    "developer_df = pd.read_json('developer_profiles.json')\n",
    "developer_df.head(3)"
   ]
  },
  {
   "cell_type": "code",
   "execution_count": 20,
   "metadata": {},
   "outputs": [],
   "source": [
    "developer_df['all_posts'] = developer_df['reactions'] + developer_df['posts']"
   ]
  },
  {
   "cell_type": "code",
   "execution_count": 21,
   "metadata": {},
   "outputs": [
    {
     "data": {
      "text/html": [
       "<div>\n",
       "<style scoped>\n",
       "    .dataframe tbody tr th:only-of-type {\n",
       "        vertical-align: middle;\n",
       "    }\n",
       "\n",
       "    .dataframe tbody tr th {\n",
       "        vertical-align: top;\n",
       "    }\n",
       "\n",
       "    .dataframe thead th {\n",
       "        text-align: right;\n",
       "    }\n",
       "</style>\n",
       "<table border=\"1\" class=\"dataframe\">\n",
       "  <thead>\n",
       "    <tr style=\"text-align: right;\">\n",
       "      <th></th>\n",
       "      <th>post_text</th>\n",
       "      <th>reacted_users_info</th>\n",
       "      <th>relevant_users_info</th>\n",
       "      <th>relevant_reactions_count</th>\n",
       "    </tr>\n",
       "  </thead>\n",
       "  <tbody>\n",
       "    <tr>\n",
       "      <th>0</th>\n",
       "      <td>🎓В EDtech компанию ищем второго дизайнера, кот...</td>\n",
       "      <td>{'https://www.linkedin.com/in/ACoAACWwVPkBv6-7...</td>\n",
       "      <td>{'https://www.linkedin.com/in/ACoAAAMUSTMBzF6i...</td>\n",
       "      <td>2</td>\n",
       "    </tr>\n",
       "    <tr>\n",
       "      <th>1</th>\n",
       "      <td>Продолжению открытой менторской сессии “Тимлид...</td>\n",
       "      <td>{'https://www.linkedin.com/in/ACoAAAhdAtwBgdYk...</td>\n",
       "      <td>{}</td>\n",
       "      <td>0</td>\n",
       "    </tr>\n",
       "    <tr>\n",
       "      <th>2</th>\n",
       "      <td>Чудесна новина! 😎 ⭐ Natalia Konova M.D., съосн...</td>\n",
       "      <td>{'https://www.linkedin.com/in/ACoAABORW8gBBKOr...</td>\n",
       "      <td>{}</td>\n",
       "      <td>0</td>\n",
       "    </tr>\n",
       "    <tr>\n",
       "      <th>3</th>\n",
       "      <td>🚀 Are you looking to enter the world of develo...</td>\n",
       "      <td>{'https://www.linkedin.com/in/ACoAAC9nLzEBwQR3...</td>\n",
       "      <td>{}</td>\n",
       "      <td>0</td>\n",
       "    </tr>\n",
       "    <tr>\n",
       "      <th>4</th>\n",
       "      <td>Learning UX Writing with a Mentor 😎 Are you lo...</td>\n",
       "      <td>{'https://www.linkedin.com/in/ACoAADwvex4ByMeM...</td>\n",
       "      <td>{'https://www.linkedin.com/in/ACoAAC4T7VkBePX_...</td>\n",
       "      <td>2</td>\n",
       "    </tr>\n",
       "    <tr>\n",
       "      <th>...</th>\n",
       "      <td>...</td>\n",
       "      <td>...</td>\n",
       "      <td>...</td>\n",
       "      <td>...</td>\n",
       "    </tr>\n",
       "    <tr>\n",
       "      <th>537</th>\n",
       "      <td>#отзыв #pitstop #бизнес_тренинг  ОТЗЫВ СВЕТЛАН...</td>\n",
       "      <td>{'https://www.linkedin.com/in/ACoAAAJNeXQBhcX7...</td>\n",
       "      <td>{}</td>\n",
       "      <td>0</td>\n",
       "    </tr>\n",
       "    <tr>\n",
       "      <th>538</th>\n",
       "      <td>Вы ходите на собеседования, рассказываете о се...</td>\n",
       "      <td>{'https://www.linkedin.com/in/ACoAAAMAhHQBDk2Y...</td>\n",
       "      <td>{}</td>\n",
       "      <td>0</td>\n",
       "    </tr>\n",
       "    <tr>\n",
       "      <th>539</th>\n",
       "      <td>ОПЫТ + КОУЧИНГ ТВОРИТ ЧУДЕСА🔥Хочу поделиться с...</td>\n",
       "      <td>{'https://www.linkedin.com/in/ACoAABT7hBIBK83R...</td>\n",
       "      <td>{}</td>\n",
       "      <td>0</td>\n",
       "    </tr>\n",
       "    <tr>\n",
       "      <th>540</th>\n",
       "      <td>Маршалл ГолдсмитБыл у него на тренинге лет 5 н...</td>\n",
       "      <td>{'https://www.linkedin.com/in/ACoAABHz7dkBH-8B...</td>\n",
       "      <td>{}</td>\n",
       "      <td>0</td>\n",
       "    </tr>\n",
       "    <tr>\n",
       "      <th>541</th>\n",
       "      <td>Она заработала!!!! Она сделала это!!!!! Знаете...</td>\n",
       "      <td>{}</td>\n",
       "      <td>{}</td>\n",
       "      <td>0</td>\n",
       "    </tr>\n",
       "  </tbody>\n",
       "</table>\n",
       "<p>542 rows × 4 columns</p>\n",
       "</div>"
      ],
      "text/plain": [
       "                                             post_text  \\\n",
       "0    🎓В EDtech компанию ищем второго дизайнера, кот...   \n",
       "1    Продолжению открытой менторской сессии “Тимлид...   \n",
       "2    Чудесна новина! 😎 ⭐ Natalia Konova M.D., съосн...   \n",
       "3    🚀 Are you looking to enter the world of develo...   \n",
       "4    Learning UX Writing with a Mentor 😎 Are you lo...   \n",
       "..                                                 ...   \n",
       "537  #отзыв #pitstop #бизнес_тренинг  ОТЗЫВ СВЕТЛАН...   \n",
       "538  Вы ходите на собеседования, рассказываете о се...   \n",
       "539  ОПЫТ + КОУЧИНГ ТВОРИТ ЧУДЕСА🔥Хочу поделиться с...   \n",
       "540  Маршалл ГолдсмитБыл у него на тренинге лет 5 н...   \n",
       "541  Она заработала!!!! Она сделала это!!!!! Знаете...   \n",
       "\n",
       "                                    reacted_users_info  \\\n",
       "0    {'https://www.linkedin.com/in/ACoAACWwVPkBv6-7...   \n",
       "1    {'https://www.linkedin.com/in/ACoAAAhdAtwBgdYk...   \n",
       "2    {'https://www.linkedin.com/in/ACoAABORW8gBBKOr...   \n",
       "3    {'https://www.linkedin.com/in/ACoAAC9nLzEBwQR3...   \n",
       "4    {'https://www.linkedin.com/in/ACoAADwvex4ByMeM...   \n",
       "..                                                 ...   \n",
       "537  {'https://www.linkedin.com/in/ACoAAAJNeXQBhcX7...   \n",
       "538  {'https://www.linkedin.com/in/ACoAAAMAhHQBDk2Y...   \n",
       "539  {'https://www.linkedin.com/in/ACoAABT7hBIBK83R...   \n",
       "540  {'https://www.linkedin.com/in/ACoAABHz7dkBH-8B...   \n",
       "541                                                 {}   \n",
       "\n",
       "                                   relevant_users_info  \\\n",
       "0    {'https://www.linkedin.com/in/ACoAAAMUSTMBzF6i...   \n",
       "1                                                   {}   \n",
       "2                                                   {}   \n",
       "3                                                   {}   \n",
       "4    {'https://www.linkedin.com/in/ACoAAC4T7VkBePX_...   \n",
       "..                                                 ...   \n",
       "537                                                 {}   \n",
       "538                                                 {}   \n",
       "539                                                 {}   \n",
       "540                                                 {}   \n",
       "541                                                 {}   \n",
       "\n",
       "     relevant_reactions_count  \n",
       "0                           2  \n",
       "1                           0  \n",
       "2                           0  \n",
       "3                           0  \n",
       "4                           2  \n",
       "..                        ...  \n",
       "537                         0  \n",
       "538                         0  \n",
       "539                         0  \n",
       "540                         0  \n",
       "541                         0  \n",
       "\n",
       "[542 rows x 4 columns]"
      ]
     },
     "execution_count": 21,
     "metadata": {},
     "output_type": "execute_result"
    }
   ],
   "source": [
    "posts_df = pd.read_csv('filtered_posts_df (1).csv')\n",
    "posts_df"
   ]
  },
  {
   "attachments": {},
   "cell_type": "markdown",
   "metadata": {},
   "source": [
    "## <a id='toc1_5_'></a>[Обработка данных](#toc0_)"
   ]
  },
  {
   "attachments": {},
   "cell_type": "markdown",
   "metadata": {},
   "source": [
    "- Выгрузка релеввантных постов\n",
    "- Очистка текстов \n",
    "- Лемманизация \n",
    "- TF-IDF и LDA"
   ]
  },
  {
   "cell_type": "code",
   "execution_count": 22,
   "metadata": {},
   "outputs": [
    {
     "name": "stderr",
     "output_type": "stream",
     "text": [
      "<>:5: DeprecationWarning: invalid escape sequence '\\w'\n",
      "<>:6: DeprecationWarning: invalid escape sequence '\\d'\n",
      "<>:8: DeprecationWarning: invalid escape sequence '\\s'\n",
      "<>:9: DeprecationWarning: invalid escape sequence '\\s'\n",
      "<>:5: DeprecationWarning: invalid escape sequence '\\w'\n",
      "<>:6: DeprecationWarning: invalid escape sequence '\\d'\n",
      "<>:8: DeprecationWarning: invalid escape sequence '\\s'\n",
      "<>:9: DeprecationWarning: invalid escape sequence '\\s'\n",
      "C:\\Users\\Oleg\\AppData\\Local\\Temp\\ipykernel_30640\\1353664202.py:5: DeprecationWarning: invalid escape sequence '\\w'\n",
      "  text = re.sub('[^\\w\\s]', ' ', text) # удаляем все символы, кроме букв и цифр\n",
      "C:\\Users\\Oleg\\AppData\\Local\\Temp\\ipykernel_30640\\1353664202.py:6: DeprecationWarning: invalid escape sequence '\\d'\n",
      "  text = re.sub('\\d+', '', text) # удаляем все цифры\n",
      "C:\\Users\\Oleg\\AppData\\Local\\Temp\\ipykernel_30640\\1353664202.py:8: DeprecationWarning: invalid escape sequence '\\s'\n",
      "  text = re.sub('[^а-яА-Я\\s]+' , '', text)\n",
      "C:\\Users\\Oleg\\AppData\\Local\\Temp\\ipykernel_30640\\1353664202.py:9: DeprecationWarning: invalid escape sequence '\\s'\n",
      "  text = re.sub('\\s+', ' ', text) # заменяем множество пробелов одним пробелом\n"
     ]
    }
   ],
   "source": [
    "def clean_text(text):\n",
    "    #import re при использовании pandarallel\n",
    "    try:\n",
    "        text = text.lower()\n",
    "        text = re.sub('[^\\w\\s]', ' ', text) # удаляем все символы, кроме букв и цифр\n",
    "        text = re.sub('\\d+', '', text) # удаляем все цифры\n",
    "        \n",
    "        text = re.sub('[^а-яА-Я\\s]+' , '', text)\n",
    "        text = re.sub('\\s+', ' ', text) # заменяем множество пробелов одним пробелом\n",
    "        \n",
    "        text = text.strip() # удаляем пробелы в начале и конце текста\n",
    "    except:\n",
    "        pass\n",
    "    return text"
   ]
  },
  {
   "attachments": {},
   "cell_type": "markdown",
   "metadata": {},
   "source": [
    "Объединим все тексты в один список"
   ]
  },
  {
   "cell_type": "code",
   "execution_count": 23,
   "metadata": {},
   "outputs": [
    {
     "name": "stdout",
     "output_type": "stream",
     "text": [
      "['🔥 11 сервисов на базе ИИ ,которые помогут прокачать твой профиль в LinkedIn🔥❗ Лучшая благодарность за мой труд - это ваши реакции и комментарии!🔥Буду благодарен за подписку на мои другие социальные сети:✔Instagram: instagram.com/ralkofood\\xa0Там все о еде, обратная сторона работы ресторанов, рецепты, Food-обзоры, будет много контента о жизни в Польше и Европе в целоми т.д.✔Telegram: t.me/RalkoDenis\\xa0Там дублирую весь контент из LinkedIn, что бы вам было удобней читать и ничего не пропускать.📌\\xa0jasper.ai/\\xa0ИИ-копирайтер. Поможет сгенерировать интересные статьи в LinkedIn\\xa0#linkedin📌\\xa0wonsulting.com/networkai\\xa0Автоматизированный инструмент ИИ, который помогает пользователям быстро и эффективно расширить свою профессиональную сеть.📌\\xa0sayhi.pro/\\xa0Расширение Chrome на базе ИИ, которое помогает пользователям писать эффективные и убедительные сообщения LinkedIn, адаптированные к их получателям.📌\\xa0linkoai.com/\\xa0Инструмент на основе ИИ, который помогает людям максимально использовать потенциал своей работы в LinkedIn.📌\\xa0linkout.network/\\xa0Инструмент, который помогает пользователям создавать персонализированные холодные сообщения LinkedIn одним щелчком мыши.📌\\xa0filtpod.com/engage-ai/\\xa0Инструмент на базе ИИ, предназначенный для достижения максимального охвата и с помощью партнерского маркетинга в LinkedIn.📌\\xa0taplio.com/\\xa0Инструмент автоматизации LinkedIn на базе ИИ, который помогает пользователям расширить свое присутствие на платформе.📌\\xa0contentin.io/\\xa0Платформа для создания контента на базе ИИ, которая помогает пользователям быстрее создавать болеекачественный контент в LinkedIn.📌\\xa0https://lnkd.in/gsDmPD2m\\xa0Инструмент на базе ИИ, помогает создавать привлекательные посты в LinkedIn за считанные секунды.📌\\xa0pro.m64.in/linked-xp\\xa0Приложение, которое расширяет возможности LinkedIn, предлагает персонализированные советы по созданию контента.📌\\xa0resumeworded.com/\\xa0Платформа на базе ИИ, которая дает фидбек о резюме и LinkedIn профиле.'\n",
      " \"#opentowork #recruiter Всем привет! Приступаю к активному поиску работы. Я имею опыт в ит-подборе около 2 лет (полный цикл подбора персонала). В связи с релокацией из России в Грузию, мне пришлось покинуть предыдущую компанию. Готова рассмотреть возможности развития в российском бизнесе или в международной компании. За последние 8 месяцев, я подтянула английский с начального уровня до B1 и продолжаю изучать, практиковать. Немного обо мне: — Разбираюсь в специфике IT; — Разговариваю с заказчиками на одном языке: понимаю, какой специалист нужен команде, и нахожу его;— Помогаю заказчику сформулировать, cкорректировать требования к кандидату;— Хорошие навыки поиска, проведения интервью, презентации (имею бэкграунд проектного менеджера по продажам, журналиста); — Экологично и эффективно взаимодействую с командой;— Интерес с нестандартным задачам, развитию. Базово понимаю процесс адаптации персонала.Какие задачи мне интересны: подбор лучших ит-талантов, возможность в будущем расширить функционал. К примеру, задачи по адаптации персонала, развитию hr-бренда. В целом, у меня есть огромное желание участовать в мозговых штурмах и предлагать свои идеи.  Буду благодарна за любую помощь в поиске работы мечты.Hi everyone! I am looking for a job as an IT recruiter. I have experience in IT recruitment for about two years: full recruitment cycle, and non-standard tasks. Due to relocation from Russia to Georgia, I had to leave my previous company.I’m considering professional opportunities in Russian businesses or international companies. Remote work format only. Over the past 8 months, I have improved my English from an elementary level to B1 and continue to study it.Things I would like to highlight about myself: — I understand the specifics of IT;— My past experience in the sales department and journalism is giving me an understanding of customer needs. I can be on the same wave with the hiring manager and I understand which kind of specialist is needed for the particular team;— I can help the customer to define and adjust the requirements for the candidate;— \\xa0Skills in searching, interviewing talents, and presenting companies and projects;— \\xa0Friendly and effective interaction with the team;— \\xa0Interested in non-standard tasks, and self-development. I also have a basic understanding of the staff adaptation process.What tasks I am interested in:— Sourcing and hiring the best IT talents;— Expecting the opportunity to expand my functionality in the future with the tasks like: staff adaptation, and HR-brand growth;— In general, I'm exploring new work opportunities where I could participate in brainstorming sessions where could I share my ideas;\\xa0Thank you in advance for any connections, advice, reposts, or opportunities you can offer.\"\n",
      " '🔥 Если вы в поисках удаленной работы или дополнительного дохода, я нашел на просторах интернета огромную таблицу со списком компаний по всему миру, которые работают удаленно и активно нанимают персонал 🤗Если вам нужен pdf файл , то пишите в коментариях и я вам отправлю)Лайк и репост приветствуется🙂🔥Буду благодарен за подписку на мои другие социальные сети:✔Instagram: instagram.com/ralkofood\\xa0Там все о еде, обратная сторона работы ресторанов, рецепты, Food-обзоры, будет много контента о жизни в Польше и Европе в целоми т.д.✔Telegram: t.me/RalkoDenis\\xa0Там дублирую весь контент из LinkedIn, что бы вам было удобней читать и ничего не пропускать.#linkedin\\xa0#cvwriting\\xa0#jobsearch\\xa0#freecourses\\xa0#linkedinhacks\\xa0#cv#remote\\xa0#jobs\\xa0#jobseekers\\xa0\\xa0#like\\xa0#share'\n",
      " ... None None None]\n",
      "11600\n"
     ]
    }
   ],
   "source": [
    "all_texts = np.concatenate(developer_df['all_posts'].values)\n",
    "\n",
    "print(all_texts)\n",
    "print(len(all_texts))"
   ]
  },
  {
   "attachments": {},
   "cell_type": "markdown",
   "metadata": {},
   "source": [
    "Уберем дубликаты с помощью множества."
   ]
  },
  {
   "cell_type": "code",
   "execution_count": 24,
   "metadata": {},
   "outputs": [
    {
     "data": {
      "text/plain": [
       "array(['это я сижу в чатах среди разработчиков, читаю их советы друг другу и пытаюсь вычислить, кто из них самый скилловый, чтобы предложить вакансию ',\n",
       "       'Today, we’re announcing that Airbnb employees can live and work anywhere.',\n",
       "       'В статье Менеджеры Js/Css библиотек мы рассматривали какие есть варианты использования менеджеров зависимости. В данной статье мы рассмотрим как использовать Component для Symfony2.',\n",
       "       ...,\n",
       "       \"Alexander Pasko #Kudos You're so great to work with #MakingWorkFun \",\n",
       "       'Ряд иностранных компаний-разработчиков приняли решение уйти из России.Для нас важно поддержать IT-сообщество в этот сложный момент.Если вы или вся ваша команда оказались в непростой ситуации – мы готовы рассмотреть возможности для вашего перехода в компанию IT_One.Направляйте ваши резюме на career@it-one.ru и мы обязательно с вами свяжемся.#itone #itcareer #itcareers #career #informationtechnology #software #softwaredevelopment #softwareengineer',\n",
       "       'Молю вас, люди, пожалуйста, перестаньте использовать слово «клиент» в своей работе. Запомните, Клиенты бывают либо у Банков, либо у проституток. Если вы официант, то это гость вашего заведения, если вы таксист, то это ваш пассажир, если вы продавец, то это ваш покупатель. Если вы исполнитель, то это ваш ЗАКАЗЧИК!'],\n",
       "      dtype=object)"
      ]
     },
     "execution_count": 24,
     "metadata": {},
     "output_type": "execute_result"
    }
   ],
   "source": [
    "all_texts = np.array(list(set(all_texts)))\n",
    "all_texts"
   ]
  },
  {
   "attachments": {},
   "cell_type": "markdown",
   "metadata": {},
   "source": [
    "Очистим текст"
   ]
  },
  {
   "cell_type": "code",
   "execution_count": 41,
   "metadata": {},
   "outputs": [
    {
     "name": "stdout",
     "output_type": "stream",
     "text": [
      "794\n"
     ]
    }
   ],
   "source": [
    "all_texts_cleaned = np.vectorize(clean_text)(all_texts)\n",
    "all_texts_cleaned =  all_texts_cleaned[all_texts_cleaned != ''] \n",
    "print(len(all_texts_cleaned))\n",
    "#all_texts_cleaned"
   ]
  },
  {
   "cell_type": "code",
   "execution_count": 26,
   "metadata": {},
   "outputs": [
    {
     "data": {
      "text/html": [
       "<div>\n",
       "<style scoped>\n",
       "    .dataframe tbody tr th:only-of-type {\n",
       "        vertical-align: middle;\n",
       "    }\n",
       "\n",
       "    .dataframe tbody tr th {\n",
       "        vertical-align: top;\n",
       "    }\n",
       "\n",
       "    .dataframe thead th {\n",
       "        text-align: right;\n",
       "    }\n",
       "</style>\n",
       "<table border=\"1\" class=\"dataframe\">\n",
       "  <thead>\n",
       "    <tr style=\"text-align: right;\">\n",
       "      <th></th>\n",
       "      <th>post_text</th>\n",
       "      <th>reacted_users_info</th>\n",
       "      <th>relevant_users_info</th>\n",
       "      <th>relevant_reactions_count</th>\n",
       "      <th>post_text_cleaned</th>\n",
       "    </tr>\n",
       "  </thead>\n",
       "  <tbody>\n",
       "    <tr>\n",
       "      <th>0</th>\n",
       "      <td>🎓В EDtech компанию ищем второго дизайнера, кот...</td>\n",
       "      <td>{'https://www.linkedin.com/in/ACoAACWwVPkBv6-7...</td>\n",
       "      <td>{'https://www.linkedin.com/in/ACoAAAMUSTMBzF6i...</td>\n",
       "      <td>2</td>\n",
       "      <td>в компанию ищем второго дизайнера который гото...</td>\n",
       "    </tr>\n",
       "    <tr>\n",
       "      <th>1</th>\n",
       "      <td>Продолжению открытой менторской сессии “Тимлид...</td>\n",
       "      <td>{'https://www.linkedin.com/in/ACoAAAhdAtwBgdYk...</td>\n",
       "      <td>{}</td>\n",
       "      <td>0</td>\n",
       "      <td>продолжению открытой менторской сессии тимлид ...</td>\n",
       "    </tr>\n",
       "    <tr>\n",
       "      <th>2</th>\n",
       "      <td>Чудесна новина! 😎 ⭐ Natalia Konova M.D., съосн...</td>\n",
       "      <td>{'https://www.linkedin.com/in/ACoAABORW8gBBKOr...</td>\n",
       "      <td>{}</td>\n",
       "      <td>0</td>\n",
       "      <td>чудесна новина съосновател на спечели наградат...</td>\n",
       "    </tr>\n",
       "  </tbody>\n",
       "</table>\n",
       "</div>"
      ],
      "text/plain": [
       "                                           post_text  \\\n",
       "0  🎓В EDtech компанию ищем второго дизайнера, кот...   \n",
       "1  Продолжению открытой менторской сессии “Тимлид...   \n",
       "2  Чудесна новина! 😎 ⭐ Natalia Konova M.D., съосн...   \n",
       "\n",
       "                                  reacted_users_info  \\\n",
       "0  {'https://www.linkedin.com/in/ACoAACWwVPkBv6-7...   \n",
       "1  {'https://www.linkedin.com/in/ACoAAAhdAtwBgdYk...   \n",
       "2  {'https://www.linkedin.com/in/ACoAABORW8gBBKOr...   \n",
       "\n",
       "                                 relevant_users_info  \\\n",
       "0  {'https://www.linkedin.com/in/ACoAAAMUSTMBzF6i...   \n",
       "1                                                 {}   \n",
       "2                                                 {}   \n",
       "\n",
       "   relevant_reactions_count                                  post_text_cleaned  \n",
       "0                         2  в компанию ищем второго дизайнера который гото...  \n",
       "1                         0  продолжению открытой менторской сессии тимлид ...  \n",
       "2                         0  чудесна новина съосновател на спечели наградат...  "
      ]
     },
     "execution_count": 26,
     "metadata": {},
     "output_type": "execute_result"
    }
   ],
   "source": [
    "posts_df['post_text_cleaned'] = posts_df.post_text.apply(clean_text)\n",
    "posts_df.head(3)"
   ]
  },
  {
   "attachments": {},
   "cell_type": "markdown",
   "metadata": {},
   "source": [
    "Лемманизирем текст с помощью библиотеки pymystem3"
   ]
  },
  {
   "cell_type": "code",
   "execution_count": 27,
   "metadata": {},
   "outputs": [],
   "source": [
    "m = Mystem()\n",
    "def lemmatize(text):\n",
    "    return \"\".join(m.lemmatize(text))"
   ]
  },
  {
   "cell_type": "code",
   "execution_count": 28,
   "metadata": {},
   "outputs": [
    {
     "name": "stdout",
     "output_type": "stream",
     "text": [
      "CPU times: total: 2.67 s\n",
      "Wall time: 9min 57s\n"
     ]
    }
   ],
   "source": [
    "%%time\n",
    "lemmatized_texts = np.vectorize(lemmatize)(all_texts_cleaned)"
   ]
  },
  {
   "cell_type": "code",
   "execution_count": 29,
   "metadata": {},
   "outputs": [
    {
     "name": "stderr",
     "output_type": "stream",
     "text": [
      "c:\\Users\\Oleg\\anaconda3\\lib\\site-packages\\wordcloud\\wordcloud.py:106: MatplotlibDeprecationWarning: The get_cmap function was deprecated in Matplotlib 3.7 and will be removed two minor releases later. Use ``matplotlib.colormaps[name]`` or ``matplotlib.colormaps.get_cmap(obj)`` instead.\n",
      "  self.colormap = plt.cm.get_cmap(colormap)\n"
     ]
    },
    {
     "name": "stdout",
     "output_type": "stream",
     "text": [
      "CPU times: total: 578 ms\n",
      "Wall time: 578 ms\n"
     ]
    },
    {
     "data": {
      "text/plain": [
       "<matplotlib.image.AxesImage at 0x255cae0d690>"
      ]
     },
     "execution_count": 29,
     "metadata": {},
     "output_type": "execute_result"
    },
    {
     "data": {
      "image/png": "[encoded data removed]",
      "text/plain": [
       "<Figure size 640x480 with 1 Axes>"
      ]
     },
     "metadata": {},
     "output_type": "display_data"
    }
   ],
   "source": [
    "%%time\n",
    "wordcloud = WordCloud(background_color='white',max_words=100,\n",
    "                      max_font_size=40,\n",
    "                      scale=3,\n",
    "                      random_state=SEED).generate(' '.join(lemmatized_texts))\n",
    "plt.axis('off')\n",
    "plt.imshow(wordcloud)"
   ]
  },
  {
   "cell_type": "code",
   "execution_count": 30,
   "metadata": {},
   "outputs": [],
   "source": [
    "posts_df['post_text_lemma'] = posts_df['post_text_cleaned'].apply(lemmatize)"
   ]
  },
  {
   "attachments": {},
   "cell_type": "markdown",
   "metadata": {},
   "source": [
    "## Моделирование"
   ]
  },
  {
   "attachments": {},
   "cell_type": "markdown",
   "metadata": {},
   "source": [
    "Стоп слова"
   ]
  },
  {
   "cell_type": "code",
   "execution_count": 31,
   "metadata": {},
   "outputs": [],
   "source": [
    "Stop_Words = list(set(stopwords.words('russian')))\n",
    "Stop_Words.append('это')\n",
    "#print(stop_words)"
   ]
  },
  {
   "cell_type": "code",
   "execution_count": 32,
   "metadata": {},
   "outputs": [],
   "source": [
    "tfidf = TfidfVectorizer(stop_words=Stop_Words, min_df=10, max_df=0.9)"
   ]
  },
  {
   "cell_type": "code",
   "execution_count": 33,
   "metadata": {},
   "outputs": [
    {
     "data": {
      "text/plain": [
       "<794x609 sparse matrix of type '<class 'numpy.float64'>'\n",
       "\twith 16764 stored elements in Compressed Sparse Row format>"
      ]
     },
     "execution_count": 33,
     "metadata": {},
     "output_type": "execute_result"
    }
   ],
   "source": [
    "X = tfidf.fit_transform(lemmatized_texts)\n",
    "X"
   ]
  },
  {
   "cell_type": "code",
   "execution_count": 34,
   "metadata": {},
   "outputs": [
    {
     "data": {
      "text/html": [
       "<div>\n",
       "<style scoped>\n",
       "    .dataframe tbody tr th:only-of-type {\n",
       "        vertical-align: middle;\n",
       "    }\n",
       "\n",
       "    .dataframe tbody tr th {\n",
       "        vertical-align: top;\n",
       "    }\n",
       "\n",
       "    .dataframe thead th {\n",
       "        text-align: right;\n",
       "    }\n",
       "</style>\n",
       "<table border=\"1\" class=\"dataframe\">\n",
       "  <thead>\n",
       "    <tr style=\"text-align: right;\">\n",
       "      <th></th>\n",
       "      <th>авито</th>\n",
       "      <th>автоматизация</th>\n",
       "      <th>айти</th>\n",
       "      <th>активно</th>\n",
       "      <th>активный</th>\n",
       "      <th>актуальный</th>\n",
       "      <th>аналитик</th>\n",
       "      <th>английский</th>\n",
       "      <th>архитектура</th>\n",
       "      <th>база</th>\n",
       "      <th>...</th>\n",
       "      <th>человек</th>\n",
       "      <th>честно</th>\n",
       "      <th>число</th>\n",
       "      <th>читать</th>\n",
       "      <th>чувствовать</th>\n",
       "      <th>школа</th>\n",
       "      <th>штат</th>\n",
       "      <th>этап</th>\n",
       "      <th>являться</th>\n",
       "      <th>язык</th>\n",
       "    </tr>\n",
       "  </thead>\n",
       "  <tbody>\n",
       "    <tr>\n",
       "      <th>0</th>\n",
       "      <td>0.0</td>\n",
       "      <td>0.000000</td>\n",
       "      <td>0.0</td>\n",
       "      <td>0.0</td>\n",
       "      <td>0.0</td>\n",
       "      <td>0.0</td>\n",
       "      <td>0.0</td>\n",
       "      <td>0.0</td>\n",
       "      <td>0.0</td>\n",
       "      <td>0.000000</td>\n",
       "      <td>...</td>\n",
       "      <td>0.000000</td>\n",
       "      <td>0.0</td>\n",
       "      <td>0.0</td>\n",
       "      <td>0.267403</td>\n",
       "      <td>0.0</td>\n",
       "      <td>0.000000</td>\n",
       "      <td>0.0</td>\n",
       "      <td>0.0</td>\n",
       "      <td>0.0</td>\n",
       "      <td>0.0</td>\n",
       "    </tr>\n",
       "    <tr>\n",
       "      <th>1</th>\n",
       "      <td>0.0</td>\n",
       "      <td>0.000000</td>\n",
       "      <td>0.0</td>\n",
       "      <td>0.0</td>\n",
       "      <td>0.0</td>\n",
       "      <td>0.0</td>\n",
       "      <td>0.0</td>\n",
       "      <td>0.0</td>\n",
       "      <td>0.0</td>\n",
       "      <td>0.000000</td>\n",
       "      <td>...</td>\n",
       "      <td>0.000000</td>\n",
       "      <td>0.0</td>\n",
       "      <td>0.0</td>\n",
       "      <td>0.000000</td>\n",
       "      <td>0.0</td>\n",
       "      <td>0.000000</td>\n",
       "      <td>0.0</td>\n",
       "      <td>0.0</td>\n",
       "      <td>0.0</td>\n",
       "      <td>0.0</td>\n",
       "    </tr>\n",
       "    <tr>\n",
       "      <th>2</th>\n",
       "      <td>0.0</td>\n",
       "      <td>0.000000</td>\n",
       "      <td>0.0</td>\n",
       "      <td>0.0</td>\n",
       "      <td>0.0</td>\n",
       "      <td>0.0</td>\n",
       "      <td>0.0</td>\n",
       "      <td>0.0</td>\n",
       "      <td>0.0</td>\n",
       "      <td>0.000000</td>\n",
       "      <td>...</td>\n",
       "      <td>0.000000</td>\n",
       "      <td>0.0</td>\n",
       "      <td>0.0</td>\n",
       "      <td>0.000000</td>\n",
       "      <td>0.0</td>\n",
       "      <td>0.000000</td>\n",
       "      <td>0.0</td>\n",
       "      <td>0.0</td>\n",
       "      <td>0.0</td>\n",
       "      <td>0.0</td>\n",
       "    </tr>\n",
       "    <tr>\n",
       "      <th>3</th>\n",
       "      <td>0.0</td>\n",
       "      <td>0.000000</td>\n",
       "      <td>0.0</td>\n",
       "      <td>0.0</td>\n",
       "      <td>0.0</td>\n",
       "      <td>0.0</td>\n",
       "      <td>0.0</td>\n",
       "      <td>0.0</td>\n",
       "      <td>0.0</td>\n",
       "      <td>0.000000</td>\n",
       "      <td>...</td>\n",
       "      <td>0.000000</td>\n",
       "      <td>0.0</td>\n",
       "      <td>0.0</td>\n",
       "      <td>0.000000</td>\n",
       "      <td>0.0</td>\n",
       "      <td>0.000000</td>\n",
       "      <td>0.0</td>\n",
       "      <td>0.0</td>\n",
       "      <td>0.0</td>\n",
       "      <td>0.0</td>\n",
       "    </tr>\n",
       "    <tr>\n",
       "      <th>4</th>\n",
       "      <td>0.0</td>\n",
       "      <td>0.067485</td>\n",
       "      <td>0.0</td>\n",
       "      <td>0.0</td>\n",
       "      <td>0.0</td>\n",
       "      <td>0.0</td>\n",
       "      <td>0.0</td>\n",
       "      <td>0.0</td>\n",
       "      <td>0.0</td>\n",
       "      <td>0.428338</td>\n",
       "      <td>...</td>\n",
       "      <td>0.037269</td>\n",
       "      <td>0.0</td>\n",
       "      <td>0.0</td>\n",
       "      <td>0.048925</td>\n",
       "      <td>0.0</td>\n",
       "      <td>0.000000</td>\n",
       "      <td>0.0</td>\n",
       "      <td>0.0</td>\n",
       "      <td>0.0</td>\n",
       "      <td>0.0</td>\n",
       "    </tr>\n",
       "    <tr>\n",
       "      <th>...</th>\n",
       "      <td>...</td>\n",
       "      <td>...</td>\n",
       "      <td>...</td>\n",
       "      <td>...</td>\n",
       "      <td>...</td>\n",
       "      <td>...</td>\n",
       "      <td>...</td>\n",
       "      <td>...</td>\n",
       "      <td>...</td>\n",
       "      <td>...</td>\n",
       "      <td>...</td>\n",
       "      <td>...</td>\n",
       "      <td>...</td>\n",
       "      <td>...</td>\n",
       "      <td>...</td>\n",
       "      <td>...</td>\n",
       "      <td>...</td>\n",
       "      <td>...</td>\n",
       "      <td>...</td>\n",
       "      <td>...</td>\n",
       "      <td>...</td>\n",
       "    </tr>\n",
       "    <tr>\n",
       "      <th>789</th>\n",
       "      <td>0.0</td>\n",
       "      <td>0.000000</td>\n",
       "      <td>0.0</td>\n",
       "      <td>0.0</td>\n",
       "      <td>0.0</td>\n",
       "      <td>0.0</td>\n",
       "      <td>0.0</td>\n",
       "      <td>0.0</td>\n",
       "      <td>0.0</td>\n",
       "      <td>0.000000</td>\n",
       "      <td>...</td>\n",
       "      <td>0.000000</td>\n",
       "      <td>0.0</td>\n",
       "      <td>0.0</td>\n",
       "      <td>0.000000</td>\n",
       "      <td>0.0</td>\n",
       "      <td>0.345251</td>\n",
       "      <td>0.0</td>\n",
       "      <td>0.0</td>\n",
       "      <td>0.0</td>\n",
       "      <td>0.0</td>\n",
       "    </tr>\n",
       "    <tr>\n",
       "      <th>790</th>\n",
       "      <td>0.0</td>\n",
       "      <td>0.000000</td>\n",
       "      <td>0.0</td>\n",
       "      <td>0.0</td>\n",
       "      <td>0.0</td>\n",
       "      <td>0.0</td>\n",
       "      <td>0.0</td>\n",
       "      <td>0.0</td>\n",
       "      <td>0.0</td>\n",
       "      <td>0.000000</td>\n",
       "      <td>...</td>\n",
       "      <td>0.000000</td>\n",
       "      <td>0.0</td>\n",
       "      <td>0.0</td>\n",
       "      <td>0.000000</td>\n",
       "      <td>0.0</td>\n",
       "      <td>0.000000</td>\n",
       "      <td>0.0</td>\n",
       "      <td>0.0</td>\n",
       "      <td>0.0</td>\n",
       "      <td>0.0</td>\n",
       "    </tr>\n",
       "    <tr>\n",
       "      <th>791</th>\n",
       "      <td>0.0</td>\n",
       "      <td>0.000000</td>\n",
       "      <td>0.0</td>\n",
       "      <td>0.0</td>\n",
       "      <td>0.0</td>\n",
       "      <td>0.0</td>\n",
       "      <td>0.0</td>\n",
       "      <td>0.0</td>\n",
       "      <td>0.0</td>\n",
       "      <td>0.000000</td>\n",
       "      <td>...</td>\n",
       "      <td>0.000000</td>\n",
       "      <td>0.0</td>\n",
       "      <td>0.0</td>\n",
       "      <td>0.000000</td>\n",
       "      <td>0.0</td>\n",
       "      <td>0.000000</td>\n",
       "      <td>0.0</td>\n",
       "      <td>0.0</td>\n",
       "      <td>0.0</td>\n",
       "      <td>0.0</td>\n",
       "    </tr>\n",
       "    <tr>\n",
       "      <th>792</th>\n",
       "      <td>0.0</td>\n",
       "      <td>0.000000</td>\n",
       "      <td>0.0</td>\n",
       "      <td>0.0</td>\n",
       "      <td>0.0</td>\n",
       "      <td>0.0</td>\n",
       "      <td>0.0</td>\n",
       "      <td>0.0</td>\n",
       "      <td>0.0</td>\n",
       "      <td>0.000000</td>\n",
       "      <td>...</td>\n",
       "      <td>0.000000</td>\n",
       "      <td>0.0</td>\n",
       "      <td>0.0</td>\n",
       "      <td>0.000000</td>\n",
       "      <td>0.0</td>\n",
       "      <td>0.000000</td>\n",
       "      <td>0.0</td>\n",
       "      <td>0.0</td>\n",
       "      <td>0.0</td>\n",
       "      <td>0.0</td>\n",
       "    </tr>\n",
       "    <tr>\n",
       "      <th>793</th>\n",
       "      <td>0.0</td>\n",
       "      <td>0.000000</td>\n",
       "      <td>0.0</td>\n",
       "      <td>0.0</td>\n",
       "      <td>0.0</td>\n",
       "      <td>0.0</td>\n",
       "      <td>0.0</td>\n",
       "      <td>0.0</td>\n",
       "      <td>0.0</td>\n",
       "      <td>0.000000</td>\n",
       "      <td>...</td>\n",
       "      <td>0.130815</td>\n",
       "      <td>0.0</td>\n",
       "      <td>0.0</td>\n",
       "      <td>0.000000</td>\n",
       "      <td>0.0</td>\n",
       "      <td>0.000000</td>\n",
       "      <td>0.0</td>\n",
       "      <td>0.0</td>\n",
       "      <td>0.0</td>\n",
       "      <td>0.0</td>\n",
       "    </tr>\n",
       "  </tbody>\n",
       "</table>\n",
       "<p>794 rows × 609 columns</p>\n",
       "</div>"
      ],
      "text/plain": [
       "     авито  автоматизация  айти  активно  активный  актуальный  аналитик  \\\n",
       "0      0.0       0.000000   0.0      0.0       0.0         0.0       0.0   \n",
       "1      0.0       0.000000   0.0      0.0       0.0         0.0       0.0   \n",
       "2      0.0       0.000000   0.0      0.0       0.0         0.0       0.0   \n",
       "3      0.0       0.000000   0.0      0.0       0.0         0.0       0.0   \n",
       "4      0.0       0.067485   0.0      0.0       0.0         0.0       0.0   \n",
       "..     ...            ...   ...      ...       ...         ...       ...   \n",
       "789    0.0       0.000000   0.0      0.0       0.0         0.0       0.0   \n",
       "790    0.0       0.000000   0.0      0.0       0.0         0.0       0.0   \n",
       "791    0.0       0.000000   0.0      0.0       0.0         0.0       0.0   \n",
       "792    0.0       0.000000   0.0      0.0       0.0         0.0       0.0   \n",
       "793    0.0       0.000000   0.0      0.0       0.0         0.0       0.0   \n",
       "\n",
       "     английский  архитектура      база  ...   человек  честно  число  \\\n",
       "0           0.0          0.0  0.000000  ...  0.000000     0.0    0.0   \n",
       "1           0.0          0.0  0.000000  ...  0.000000     0.0    0.0   \n",
       "2           0.0          0.0  0.000000  ...  0.000000     0.0    0.0   \n",
       "3           0.0          0.0  0.000000  ...  0.000000     0.0    0.0   \n",
       "4           0.0          0.0  0.428338  ...  0.037269     0.0    0.0   \n",
       "..          ...          ...       ...  ...       ...     ...    ...   \n",
       "789         0.0          0.0  0.000000  ...  0.000000     0.0    0.0   \n",
       "790         0.0          0.0  0.000000  ...  0.000000     0.0    0.0   \n",
       "791         0.0          0.0  0.000000  ...  0.000000     0.0    0.0   \n",
       "792         0.0          0.0  0.000000  ...  0.000000     0.0    0.0   \n",
       "793         0.0          0.0  0.000000  ...  0.130815     0.0    0.0   \n",
       "\n",
       "       читать  чувствовать     школа  штат  этап  являться  язык  \n",
       "0    0.267403          0.0  0.000000   0.0   0.0       0.0   0.0  \n",
       "1    0.000000          0.0  0.000000   0.0   0.0       0.0   0.0  \n",
       "2    0.000000          0.0  0.000000   0.0   0.0       0.0   0.0  \n",
       "3    0.000000          0.0  0.000000   0.0   0.0       0.0   0.0  \n",
       "4    0.048925          0.0  0.000000   0.0   0.0       0.0   0.0  \n",
       "..        ...          ...       ...   ...   ...       ...   ...  \n",
       "789  0.000000          0.0  0.345251   0.0   0.0       0.0   0.0  \n",
       "790  0.000000          0.0  0.000000   0.0   0.0       0.0   0.0  \n",
       "791  0.000000          0.0  0.000000   0.0   0.0       0.0   0.0  \n",
       "792  0.000000          0.0  0.000000   0.0   0.0       0.0   0.0  \n",
       "793  0.000000          0.0  0.000000   0.0   0.0       0.0   0.0  \n",
       "\n",
       "[794 rows x 609 columns]"
      ]
     },
     "execution_count": 34,
     "metadata": {},
     "output_type": "execute_result"
    }
   ],
   "source": [
    "text_df = pd.DataFrame.sparse.from_spmatrix(X, columns = tfidf.get_feature_names_out())\n",
    "text_df"
   ]
  },
  {
   "attachments": {},
   "cell_type": "markdown",
   "metadata": {},
   "source": [
    "## LDA"
   ]
  },
  {
   "cell_type": "code",
   "execution_count": 35,
   "metadata": {},
   "outputs": [],
   "source": [
    "id2word = {i: token for i, token in enumerate(tfidf.get_feature_names_out())}"
   ]
  },
  {
   "cell_type": "code",
   "execution_count": 36,
   "metadata": {},
   "outputs": [
    {
     "data": {
      "text/plain": [
       "(794, 10)"
      ]
     },
     "execution_count": 36,
     "metadata": {},
     "output_type": "execute_result"
    }
   ],
   "source": [
    "n_topics = 10\n",
    "lda = LatentDirichletAllocation(n_components=n_topics, random_state=SEED)\n",
    "topics = lda.fit_transform(X)\n",
    "topics.shape"
   ]
  },
  {
   "attachments": {},
   "cell_type": "markdown",
   "metadata": {},
   "source": [
    "Ключевые слова для полученных тем"
   ]
  },
  {
   "cell_type": "code",
   "execution_count": 37,
   "metadata": {},
   "outputs": [
    {
     "name": "stdout",
     "output_type": "stream",
     "text": [
      "Тема 1 :\n",
      "мочь, чувствовать, любить, свой, конец, делать, связь, спасибо, очень, английский, деньги, ответ, приходить, время, смотреть, знакомый, сделать, человек, беларусь, жить\n",
      "\n",
      " \n",
      "Тема 2 :\n",
      "рекрутер, поиск, возможность, благодарить, хотеть, следующий, получать, проверка, разработчик, проходить, значок, тест, навык, работа, новый, начинать, компания, должность, сообщать, удовольствие\n",
      "\n",
      " \n",
      "Тема 3 :\n",
      "переезжать, коллега, граница, оказываться, разработчик, день, называть, искать, конец, документ, неделя, почему, человек, нужно, любимый, релокация, целое, думать, вывод, писать\n",
      "\n",
      " \n",
      "Тема 4 :\n",
      "хороший, обо, готовиться, последний, именно, использовать, ничто, лента, москва, тестирование, удобный, сегодня, скоро, идея, бесплатный, проект, подборка, немного, тестировщик, работать\n",
      "\n",
      " \n",
      "Тема 5 :\n",
      "красивый, лайк, показывать, ниже, место, разработчик, прочитывать, связь, крупный, начинающий, отдел, тестирование, учить, весь, штат, зп, разработка, искать, очень, привет\n",
      "\n",
      " \n",
      "Тема 6 :\n",
      "расширять, вакансия, обучение, статья, небольшой, давать, никак, интересно, рад, поделиться, посмотреть, узнавать, лайк, россия, слово, сильный, добавлять, знать, снова, очень\n",
      "\n",
      " \n",
      "Тема 7 :\n",
      "рад, стоять, точно, пора, высокий, очередь, команда, профессионал, человек, переезжать, цель, управление, сей, идти, мечта, лайка, день, желать, авито, война\n",
      "\n",
      " \n",
      "Тема 8 :\n",
      "новость, время, телегр, путь, начало, дело, поделиться, свой, получать, некоторый, кандидат, момент, действительно, интеллект, начинаться, выбирать, резюме, поработать, инженер, дата\n",
      "\n",
      " \n",
      "Тема 9 :\n",
      "кандидат, наш, искать, новый, ваш, помогать, разработчик, команда, работать, проект, привет, поиск, опыт, свой, компания, год, весь, вакансия, который, работа\n",
      "\n",
      " \n",
      "Тема 10 :\n",
      "число, письмо, подписываться, выполнять, карьера, должный, предлагать, маркетинг, получать, клиент, город, отлично, важный, офис, банк, мир, ребята, дизайн, случай, крутой\n",
      "\n",
      " \n"
     ]
    }
   ],
   "source": [
    "for i in range(n_topics):\n",
    "    c = lda.components_[i, :]\n",
    "    topic_tokens = [id2word.get(token_id) for token_id in np.argsort(c)[-20:]]\n",
    "    print(\"Тема\",i+1, \":\")\n",
    "    print(\", \".join(topic_tokens))\n",
    "    print(\"\\n \")"
   ]
  },
  {
   "attachments": {},
   "cell_type": "markdown",
   "metadata": {},
   "source": [
    "Типичные тексты"
   ]
  },
  {
   "cell_type": "code",
   "execution_count": 38,
   "metadata": {},
   "outputs": [
    {
     "name": "stdout",
     "output_type": "stream",
     "text": [
      "Тема  1\n",
      "занимаюсь изучением программирования более лет ищу работу интересную без собесов да именно без этой клоунады на собесах что везде происходит в лице тимлида или руководителя хочу делать реально приносящий пользу или сервис моя работа будет заключаться в том чтобы искать готовые решения делать прототипы продумывать автоматизацию деятельности\n",
      "\n",
      "\n",
      "Тема  2\n",
      "здравствуйте я в поиске новой карьерной возможности и буду признателен за вашу поддержку заранее благодарю за все рекомендации контактов советы или возможности которые вы можете предложить текущий стек\n",
      "\n",
      "\n",
      "Тема  3\n",
      "сегодня со мной случилось это на меня пожаловался разраб и теперь я могу писать в телеграм только взаимным контактам до конца недели вопрос зачем если не нравится не читай заблокируй но не забирай у других людей рабочий инструмент о наболевшем\n",
      "\n",
      "\n",
      "Тема  4\n",
      "в предыдущей статье использование в мы рассматривали как использовать для менеджера зависимостей есть несколько недостатков которые не позволяют нам всегда его использовать рассмотрим вариант использования для управления зависимостями библиотек из и\n",
      "\n",
      "\n",
      "Тема  5\n",
      "всем привет активно ищу работу на должность разработчика готов так же рассмотреть разработку на буду благодарен за лайк или репост\n",
      "\n",
      "\n",
      "Тема  6\n",
      "друзья очень интересно услышать вас провожу исследование буду очень рад за активность все максимально очень легко и просто всего варианта ответа это займет до сек\n",
      "\n",
      "\n",
      "Тема  7\n",
      "команда авито это настоящие профессионалы работающие над сервисом для миллионов людей мы любим крутые проекты стремимся к блестящим перспективам и всегда рады новым талантам ты с нами присоединиться к команде\n",
      "\n",
      "\n",
      "Тема  8\n",
      "с момента получения мной степени диплом специалиста по инженерной специальности в уч заведении иркутский государственный университет путей сообщения уже прошло некоторое время но мне захотелось поделиться со всеми этой информацией\n",
      "\n",
      "\n",
      "Тема  9\n",
      "недавно мне довелось пообщаться с он сказал что я свичер человек который меняет профессию из обычного рабочего технаря в айтишную забавно что именно этот элемент юайкита применим ко мне действительно подходит идеально только не так быстро как работает настоящий свичер нужно сказать что пообщавшись с сашей я понял как превратить мой предыдущий опыт работы на жд в плюсы моей будущей работы он объяснил где искать эти плюсы и как применить их я же действительно начинал из обычного сотрудника и получил должность начальника применял различные нововведения на практике разработал инструмент для ускорения рабочего процесса к примеру нужно было минут для выполнения одной операции я внедрил инструмент который сократил это время до руководил людьми что на мой взгляд самое сложное и трудное нанять сотрудника это одно а сделать его частью коллектива заинтересованного в работе даже с невысокой зарплатой совсем другая задача а между тем вас уже к это единственная у меня платформа со столь большим количеством подписчиков радует что ботов тут нет все вы настоящие люди спасибо всем кто со мной кто следит и верит в меня без вас у меня ничего не получится\n",
      "\n",
      "\n",
      "Тема  10\n",
      "что в коробке только неправильные ответы я начну архив с выполненными тестовыми заданиями которые никогда не увидят свет минск дизайн вебдизайн маркетолог маркетинг реклама\n",
      "\n",
      "\n"
     ]
    }
   ],
   "source": [
    "for i in range(n_topics):\n",
    "    doc_id = np.argmax(topics[:, i])\n",
    "    print(\"Тема \", i+1)\n",
    "    #print(developer_df.iloc[doc_id][\"posts\"])\n",
    "    print(all_texts_cleaned[doc_id])\n",
    "    print(\"\\n\")"
   ]
  },
  {
   "attachments": {},
   "cell_type": "markdown",
   "metadata": {},
   "source": [
    "## LDA постам с темой наставничество"
   ]
  },
  {
   "cell_type": "code",
   "execution_count": 39,
   "metadata": {},
   "outputs": [
    {
     "data": {
      "text/plain": [
       "(542, 10)"
      ]
     },
     "execution_count": 39,
     "metadata": {},
     "output_type": "execute_result"
    }
   ],
   "source": [
    "tfidf = TfidfVectorizer(stop_words=Stop_Words, min_df=10, max_df=0.9)\n",
    "X = tfidf.fit_transform(posts_df['post_text_lemma'])\n",
    "id2word = {i: token for i, token in enumerate(tfidf.get_feature_names_out())}\n",
    "\n",
    "n_topics = 10\n",
    "lda = LatentDirichletAllocation(n_components=n_topics, random_state=SEED)\n",
    "topics = lda.fit_transform(X)\n",
    "topics.shape"
   ]
  },
  {
   "cell_type": "code",
   "execution_count": 40,
   "metadata": {},
   "outputs": [
    {
     "name": "stdout",
     "output_type": "stream",
     "text": [
      "Тема 1 :\n",
      "теплый, нетворкинг, научать, ов, переговоры, критический, деловой, креативный, недавно, присоединяться, подборка, голова, легко, лидерство, сказать, точно, письмо, хотеться, менторский, мышление\n",
      "\n",
      " \n",
      "Тема 2 :\n",
      "взгляд, менторство, якщо, сво, робот, мена, ви, ми, досвд, робощать, це, вд, що, благодарность, наставничество, як, ваш, отзыв, благодарить, потрясающийнаставник\n",
      "\n",
      " \n",
      "Тема 3 :\n",
      "лс, получение, продавать, набирать, право, степень, сертификат, обратный, миллион, приятно, менторство, дорогой, яндекс, подготовить, серия, благодарить, пример, лидерство, наставничество, основатель\n",
      "\n",
      " \n",
      "Тема 4 :\n",
      "наставничество, бизнес, обучение, хотеть, преподавание, весь, мочь, программа, работать, развитие, новый, человек, команда, проект, год, компания, опыт, который, свой, работа\n",
      "\n",
      " \n",
      "Тема 5 :\n",
      "якщо, команда, справляться, оно, многое, совместный, увидеть, регион, наш, разбирать, канал, телегр, джуна, работа, информация, ко, проектный, деталь, функция, просить\n",
      "\n",
      " \n",
      "Тема 6 :\n",
      "связывать, сессия, лидерство, завтра, александр, расширение, деловой, состояние, сказать, коуч, новичок, дата, близко, ов, основатель, менторский, познакомиться, третий, специальность, разбирать\n",
      "\n",
      " \n",
      "Тема 7 :\n",
      "ставить, карьера, читать, канал, наставничество, маркетинг, менторство, подписываться, бизнес, управление, инновация, предпринимательство, мотивация, ще, саморазвитие, видео, личностноеразвитие, карьерныйрост, управлениеперсонал, коучинг\n",
      "\n",
      " \n",
      "Тема 8 :\n",
      "определять, менторский, сменить, предприниматель, преподавание, що, курс, специалист, вд, разбирать, менторство, лидерство, эксперт, образование, коучинг, легко, научать, учитель, рекрутинг, коуч\n",
      "\n",
      " \n",
      "Тема 9 :\n",
      "свой, ваш, наш, онлайн, подготовка, представлять, сила, консалтинг, старт, сво, возможность, маркетинг, обязанность, ми, стартап, дело, успешно, александр, рамка, менторство\n",
      "\n",
      " \n",
      "Тема 10 :\n",
      "голова, сказать, обязанность, легко, сохранять, менторство, начинать, курс, стратегия, успех, качество, направлять, прекрасный, ви, сообщать, удовольствие, проект, думать, преподавание, эффективный\n",
      "\n",
      " \n"
     ]
    }
   ],
   "source": [
    "for i in range(n_topics):\n",
    "    c = lda.components_[i, :]\n",
    "    topic_tokens = [id2word.get(token_id) for token_id in np.argsort(c)[-20:]]\n",
    "    print(\"Тема\",i+1, \":\")\n",
    "    print(\", \".join(topic_tokens))\n",
    "    print(\"\\n \")"
   ]
  }
 ],
 "metadata": {
  "kernelspec": {
   "display_name": "Python 3",
   "language": "python",
   "name": "python3"
  },
  "language_info": {
   "codemirror_mode": {
    "name": "ipython",
    "version": 3
   },
   "file_extension": ".py",
   "mimetype": "text/x-python",
   "name": "python",
   "nbconvert_exporter": "python",
   "pygments_lexer": "ipython3",
   "version": "3.10.9"
  },
  "orig_nbformat": 4
 },
 "nbformat": 4,
 "nbformat_minor": 2
}
